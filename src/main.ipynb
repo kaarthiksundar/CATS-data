{
 "cells": [
  {
   "cell_type": "code",
   "execution_count": 12,
   "metadata": {},
   "outputs": [],
   "source": [
    "# python imports \n",
    "from icecream import ic \n",
    "from matpowercaseframes import CaseFrames \n",
    "import pandas as pd \n",
    "import numpy"
   ]
  },
  {
   "cell_type": "code",
   "execution_count": 11,
   "metadata": {},
   "outputs": [],
   "source": [
    "# file names with paths \n",
    "case_file = '../CATS-CaliforniaTestSystem/MATPOWER/CaliforniaTestSystem.m'\n",
    "egrid_2021 = '../data/eGRID2021_data.xlsx'\n",
    "gen_file = '../CATS-CaliforniaTestSystem/Additional Data Files/gen_data.csv'\n",
    "bus_file = '../CATS-CaliforniaTestSystem/Additional Data Files/bus_data.csv'"
   ]
  },
  {
   "cell_type": "code",
   "execution_count": 28,
   "metadata": {},
   "outputs": [
    {
     "name": "stderr",
     "output_type": "stream",
     "text": [
      "ic| len(cf.gen): 3968\n",
      "ic| len(gen_data): 2229\n"
     ]
    }
   ],
   "source": [
    "cf = CaseFrames(case_file) \n",
    "gen_data = pd.read_csv(gen_file)\n",
    "ic(len(cf.gen))\n",
    "ic(len(gen_data))\n",
    "frames = [cf.gen, gen_data]\n",
    "gen_frame = pd.concat(frames)"
   ]
  },
  {
   "cell_type": "code",
   "execution_count": 37,
   "metadata": {},
   "outputs": [
    {
     "name": "stderr",
     "output_type": "stream",
     "text": [
      "ic| len(cf.gen['GEN_BUS'].unique()): "
     ]
    },
    {
     "name": "stderr",
     "output_type": "stream",
     "text": [
      "2202\n"
     ]
    },
    {
     "data": {
      "text/plain": [
       "2202"
      ]
     },
     "execution_count": 37,
     "metadata": {},
     "output_type": "execute_result"
    }
   ],
   "source": [
    "ic(len(cf.gen['GEN_BUS'].unique()))"
   ]
  },
  {
   "cell_type": "code",
   "execution_count": null,
   "metadata": {},
   "outputs": [],
   "source": []
  }
 ],
 "metadata": {
  "kernelspec": {
   "display_name": "CATS-data-1fSO57_x",
   "language": "python",
   "name": "python3"
  },
  "language_info": {
   "codemirror_mode": {
    "name": "ipython",
    "version": 3
   },
   "file_extension": ".py",
   "mimetype": "text/x-python",
   "name": "python",
   "nbconvert_exporter": "python",
   "pygments_lexer": "ipython3",
   "version": "3.11.3"
  }
 },
 "nbformat": 4,
 "nbformat_minor": 2
}
